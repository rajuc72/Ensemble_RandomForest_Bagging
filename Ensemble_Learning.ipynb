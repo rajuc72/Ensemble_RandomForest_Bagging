{
  "nbformat": 4,
  "nbformat_minor": 0,
  "metadata": {
    "colab": {
      "provenance": []
    },
    "kernelspec": {
      "name": "python3",
      "display_name": "Python 3"
    },
    "language_info": {
      "name": "python"
    }
  },
  "cells": [
    {
      "cell_type": "markdown",
      "source": [
        "#Ensemble Learning Bagging(Bootstrap Aggregation)\n",
        "\n",
        "###1.Can we use Bagging for regression problems.\n",
        "\n",
        "ANS: Yes, Bagging or Bootstrap Aggregating, is an ensemble learning method that combines multiple predictions from different models to produce a more robust and accurate final prediction.\n",
        "Bagging helps to address/solve both regression and classfication datasets/problems.\n",
        "\n",
        "###2.What is the difference between multiple model training and single model training.\n",
        "\n",
        "ANS: In machine learning, single model training involves training a single model to perform a task, while multiple model training (or ensemble learning) uses multiple models, often trained independently, and combines their predictions to achieve better performance by voting/averaging .\n",
        "\n",
        "###3.Explain the concept of feature randomness in Random Forest.\n",
        "\n",
        "ANS: In Random Forest at each split in a decision tree, the algorithm considers only a random subset of features, rather than all available features, which promotes diversity and reduces correlation among trees, leading to a more robust and accurate model.\n",
        "\n",
        "###4.What is OOB (Out-of-Bag) Score?\n",
        "\n",
        "ANS: The Out-of-Bag (OOB) score, used in bagging algorithms like Random Forests, is an estimate of the model's prediction error using data points that were not used in training a specific tree. It's a convenient way to evaluate model performance without needing a separate validation dataset\n",
        "\n",
        "###5.How can you measure the importance of features in a Random Forest model?\n",
        "\n",
        "ANS: In Random Forest feature importance is measured by calculating the average reduction in impurity (Gini impurity or Information Gain) across all trees in the forest when a specific feature is used for splitting.\n",
        "\n",
        "###6.Explain the working principle of a Bagging Classifier?\n",
        "ANS: A Bagging classifier is an ensemble meta-estimator(combined estimator) that fits base classifiers/models each on random subsets of the original dataset and then aggregate their individual predictions (either by voting majority or by averaging) to form a final prediction.\n",
        "\n",
        "###7.How do you evaluate a Bagging Classifier’s performance?\n",
        "\n",
        "ANS: To calculate Bagging Classifier's performance we can use standard classification metrics like accuracy, precision, recall, F1-score, and AUC, and confusion matrix to understand the model's performance on different classes, especially for imbalanced datasets.\n",
        "\n",
        "###8.How does a Bagging Regressor work\n",
        "\n",
        "ANS: A Bagging Regressor works using bootstrap sampling with replacement and then aggregating their predictions (typically by averaging) to produce a final, more robust prediction.\n",
        "\n",
        "###9.What is the main advantage of ensemble techniques?\n",
        "\n",
        "ANS: The primary advantage of ensemble learning is improved predictive accuracy and robustness by combining multiple models, leveraging their strengths and mitigating individual weaknesses.\n",
        "\n",
        "###10.What is the main challenge of ensemble methods?\n",
        "\n",
        "ANS: The main challenge of ensemble techniques lies in their increased complexity and computational cost, stemming from the need to train and combine multiple models, potentially leading to longer training times and increased memory requirements.\n",
        "\n",
        "###11.Explain the key idea behind ensemble techniques?\n",
        "\n",
        "ANS: Ensemble techniques in machine learning leverage the \"wisdom of crowds\" by combining multiple models to achieve better performance than any single model alone, improving accuracy and robustness.\n",
        "\n",
        "###12.What is a Random Forest Classifier?\n",
        "\n",
        "Ans: A Random Forest classifier is a machine learning algorithm that uses an ensemble of decision trees to classify data, improving accuracy and reducing overfitting by combining predictions from multiple trees.\n",
        "\n",
        "###13.What are the main types of ensemble techniques?\n",
        "\n",
        "ANS: The main types of ensemble techniques are bagging, boosting, and stacking, Voting which combine multiple models to improve accuracy and to produce more generalized meta model.\n",
        "\n",
        "###14.What is ensemble learning in machine learning?\n",
        "\n",
        "ANS: Ensemble learning in machine learning combines multiple models to improve predictive performance by leveraging the strengths of diverse models and reducing their weaknesses, ultimately leading to more accurate and to produce more generalized meta model.\n",
        "\n",
        "###15.When should we avoid using ensemble methods?\n",
        "\n",
        "ANS: We should avoid ensemble methods when the dataset is very small, or the base models are highly correlated and computational resources are severely limited.\n",
        "\n",
        "###16.How does Bagging help in reducing overfitting?\n",
        "\n",
        "ANS: Bagging (Bootstrap Aggregating) reduces overfitting by training multiple models on different subsets of the data (using bootstrapping) and then averaging their predictions, which leads to a more stable and generalized model which better to unseen data.\n",
        "\n",
        "###17.Why is Random Forest better than a single Decision Tree?\n",
        "\n",
        "ANS: Random Forest better than a single Decision Tree due to its ability to reduce overfitting, improve accuracy, and handle complex datasets more effectively by averaging predictions from multiple trees.\n",
        "\n",
        "###18.What is the role of bootstrap sampling in Bagging?\n",
        "\n",
        "ANS: Bootstrapping is a resampling technique that helps in sampling the original dataset with replacement and generating multiple new datasets of the same size as the original.\n",
        "\n",
        "###19.What are some real-world applications of ensemble techniques?\n",
        "\n",
        "ANS: Ensemble techniques, which combine multiple models, find applications across diverse fields like finance, healthcare, computer vision, and more, improving accuracy and robustness in tasks like fraud detection, image recognition, and disease diagnosis.\n",
        "\n",
        "###20.What is the difference between Bagging and Boosting?\n",
        "\n",
        "ANS: The key differences lies in how they train and combine these models: Bagging trains models independently and in parallel, while Boosting trains models sequentially, focusing on correcting errors of previous models."
      ],
      "metadata": {
        "id": "UtuYzJeRMB4t"
      }
    },
    {
      "cell_type": "markdown",
      "source": [
        "#Practical"
      ],
      "metadata": {
        "id": "vePU_j3N6I2B"
      }
    },
    {
      "cell_type": "code",
      "source": [
        "import pandas as pd\n",
        "import numpy as np\n",
        "import matplotlib.pyplot as plt\n",
        "import seaborn as sns\n",
        "from sklearn.metrics import accuracy_score, classification_report, confusion_matrix, precision_score, recall_score, f1_score\n",
        "from sklearn.model_selection import train_test_split\n",
        "from sklearn.preprocessing import StandardScaler\n",
        "from sklearn.preprocessing import LabelEncoder,OneHotEncoder\n",
        "from sklearn.tree import DecisionTreeClassifier\n",
        "\n",
        "import warnings\n",
        "warnings.filterwarnings('ignore')\n"
      ],
      "metadata": {
        "id": "MWdJ49wc-j2x"
      },
      "execution_count": 2,
      "outputs": []
    },
    {
      "cell_type": "markdown",
      "source": [
        "###21.Train a Bagging Classifier using Decision Trees on a sample dataset and print model accuracy."
      ],
      "metadata": {
        "id": "ywuntZfx6NPh"
      }
    },
    {
      "cell_type": "code",
      "execution_count": 2,
      "metadata": {
        "id": "4NqZ9sUoL6F_"
      },
      "outputs": [],
      "source": [
        "from sklearn.datasets import make_classification\n",
        "X,y=make_classification(n_samples=1000,n_features=10,n_informative=3,n_redundant=0,random_state=0,shuffle=False)\n",
        "x_train,x_test,y_train,y_test=train_test_split(X,y,test_size=0.2,random_state=42)"
      ]
    },
    {
      "cell_type": "code",
      "source": [
        "from sklearn.ensemble import BaggingClassifier\n",
        "bag=BaggingClassifier(estimator=DecisionTreeClassifier(),n_estimators=10,random_state=42)\n",
        "bag.fit(x_train,y_train)\n",
        "y_pred=bag.predict(x_test)\n",
        "accuracy_score(y_test,y_pred)"
      ],
      "metadata": {
        "colab": {
          "base_uri": "https://localhost:8080/"
        },
        "id": "V6xHOsMZL_3g",
        "outputId": "7debee0e-3d9a-4eca-c62f-e0a74bfb80ed"
      },
      "execution_count": 3,
      "outputs": [
        {
          "output_type": "execute_result",
          "data": {
            "text/plain": [
              "0.95"
            ]
          },
          "metadata": {},
          "execution_count": 3
        }
      ]
    },
    {
      "cell_type": "markdown",
      "source": [
        "###22.Train a Bagging Regressor using Decision Trees and evaluate using Mean Squared Error (MSE)"
      ],
      "metadata": {
        "id": "WhREcRrRNwLL"
      }
    },
    {
      "cell_type": "code",
      "source": [
        "from sklearn.ensemble import BaggingRegressor\n",
        "from sklearn.metrics import mean_squared_error\n",
        "from sklearn.datasets import make_regression\n",
        "from sklearn.tree import DecisionTreeRegressor\n",
        "x,y=make_regression(n_samples=1000,n_features=10,n_informative=3,random_state=42)\n",
        "x_train,x_test,y_train,y_test=train_test_split(x,y,test_size=0.2,random_state=42)\n",
        "bag=BaggingRegressor(estimator=DecisionTreeRegressor(),n_estimators=10,random_state=42)\n",
        "bag.fit(x_train,y_train)\n",
        "y_pred=bag.predict(x_test)\n",
        "mse=mean_squared_error(y_test,y_pred)\n",
        "mse"
      ],
      "metadata": {
        "colab": {
          "base_uri": "https://localhost:8080/"
        },
        "id": "nfPPAEqYN0oc",
        "outputId": "6c9253a8-fbc7-4456-f993-e6927b936f5d"
      },
      "execution_count": 4,
      "outputs": [
        {
          "output_type": "execute_result",
          "data": {
            "text/plain": [
              "40.025566376708674"
            ]
          },
          "metadata": {},
          "execution_count": 4
        }
      ]
    },
    {
      "cell_type": "markdown",
      "source": [
        "###23.Train a Random Forest Classifier on the Breast Cancer dataset and print feature importance scores"
      ],
      "metadata": {
        "id": "w6ZRCiw0OeMo"
      }
    },
    {
      "cell_type": "code",
      "source": [
        "from sklearn.datasets import load_breast_cancer\n",
        "data=load_breast_cancer()\n",
        "x=pd.DataFrame(data.data,columns=data.feature_names)\n",
        "y=pd.Series(data.target)\n",
        "x_train,x_test,y_train,y_test=train_test_split(x,y,test_size=0.2,random_state=42)\n",
        "from sklearn.ensemble import RandomForestClassifier\n",
        "rf=RandomForestClassifier(n_estimators=100,random_state=42)\n",
        "rf.fit(x_train,y_train)\n",
        "y_pred=rf.predict(x_test)\n",
        "accuracy_score(y_test,y_pred)"
      ],
      "metadata": {
        "colab": {
          "base_uri": "https://localhost:8080/"
        },
        "id": "Ko5RTV0ROfvA",
        "outputId": "6d548524-5be0-49a4-857d-b1ecfc7b9c96"
      },
      "execution_count": 5,
      "outputs": [
        {
          "output_type": "execute_result",
          "data": {
            "text/plain": [
              "0.9649122807017544"
            ]
          },
          "metadata": {},
          "execution_count": 5
        }
      ]
    },
    {
      "cell_type": "markdown",
      "source": [
        "###24.Train a Random Forest Regressor and compare its performance with a single Decision Tree"
      ],
      "metadata": {
        "id": "-vv6oCj2PGT1"
      }
    },
    {
      "cell_type": "code",
      "source": [
        "from google.colab import files\n",
        "uploaded=files.upload()"
      ],
      "metadata": {
        "colab": {
          "base_uri": "https://localhost:8080/",
          "height": 74
        },
        "id": "Jd6YSI_BWoP7",
        "outputId": "5dde553c-457a-464e-9ff8-07971a1bb82b"
      },
      "execution_count": 7,
      "outputs": [
        {
          "output_type": "display_data",
          "data": {
            "text/plain": [
              "<IPython.core.display.HTML object>"
            ],
            "text/html": [
              "\n",
              "     <input type=\"file\" id=\"files-134affca-ccc3-4cb5-ac94-4b761bf26118\" name=\"files[]\" multiple disabled\n",
              "        style=\"border:none\" />\n",
              "     <output id=\"result-134affca-ccc3-4cb5-ac94-4b761bf26118\">\n",
              "      Upload widget is only available when the cell has been executed in the\n",
              "      current browser session. Please rerun this cell to enable.\n",
              "      </output>\n",
              "      <script>// Copyright 2017 Google LLC\n",
              "//\n",
              "// Licensed under the Apache License, Version 2.0 (the \"License\");\n",
              "// you may not use this file except in compliance with the License.\n",
              "// You may obtain a copy of the License at\n",
              "//\n",
              "//      http://www.apache.org/licenses/LICENSE-2.0\n",
              "//\n",
              "// Unless required by applicable law or agreed to in writing, software\n",
              "// distributed under the License is distributed on an \"AS IS\" BASIS,\n",
              "// WITHOUT WARRANTIES OR CONDITIONS OF ANY KIND, either express or implied.\n",
              "// See the License for the specific language governing permissions and\n",
              "// limitations under the License.\n",
              "\n",
              "/**\n",
              " * @fileoverview Helpers for google.colab Python module.\n",
              " */\n",
              "(function(scope) {\n",
              "function span(text, styleAttributes = {}) {\n",
              "  const element = document.createElement('span');\n",
              "  element.textContent = text;\n",
              "  for (const key of Object.keys(styleAttributes)) {\n",
              "    element.style[key] = styleAttributes[key];\n",
              "  }\n",
              "  return element;\n",
              "}\n",
              "\n",
              "// Max number of bytes which will be uploaded at a time.\n",
              "const MAX_PAYLOAD_SIZE = 100 * 1024;\n",
              "\n",
              "function _uploadFiles(inputId, outputId) {\n",
              "  const steps = uploadFilesStep(inputId, outputId);\n",
              "  const outputElement = document.getElementById(outputId);\n",
              "  // Cache steps on the outputElement to make it available for the next call\n",
              "  // to uploadFilesContinue from Python.\n",
              "  outputElement.steps = steps;\n",
              "\n",
              "  return _uploadFilesContinue(outputId);\n",
              "}\n",
              "\n",
              "// This is roughly an async generator (not supported in the browser yet),\n",
              "// where there are multiple asynchronous steps and the Python side is going\n",
              "// to poll for completion of each step.\n",
              "// This uses a Promise to block the python side on completion of each step,\n",
              "// then passes the result of the previous step as the input to the next step.\n",
              "function _uploadFilesContinue(outputId) {\n",
              "  const outputElement = document.getElementById(outputId);\n",
              "  const steps = outputElement.steps;\n",
              "\n",
              "  const next = steps.next(outputElement.lastPromiseValue);\n",
              "  return Promise.resolve(next.value.promise).then((value) => {\n",
              "    // Cache the last promise value to make it available to the next\n",
              "    // step of the generator.\n",
              "    outputElement.lastPromiseValue = value;\n",
              "    return next.value.response;\n",
              "  });\n",
              "}\n",
              "\n",
              "/**\n",
              " * Generator function which is called between each async step of the upload\n",
              " * process.\n",
              " * @param {string} inputId Element ID of the input file picker element.\n",
              " * @param {string} outputId Element ID of the output display.\n",
              " * @return {!Iterable<!Object>} Iterable of next steps.\n",
              " */\n",
              "function* uploadFilesStep(inputId, outputId) {\n",
              "  const inputElement = document.getElementById(inputId);\n",
              "  inputElement.disabled = false;\n",
              "\n",
              "  const outputElement = document.getElementById(outputId);\n",
              "  outputElement.innerHTML = '';\n",
              "\n",
              "  const pickedPromise = new Promise((resolve) => {\n",
              "    inputElement.addEventListener('change', (e) => {\n",
              "      resolve(e.target.files);\n",
              "    });\n",
              "  });\n",
              "\n",
              "  const cancel = document.createElement('button');\n",
              "  inputElement.parentElement.appendChild(cancel);\n",
              "  cancel.textContent = 'Cancel upload';\n",
              "  const cancelPromise = new Promise((resolve) => {\n",
              "    cancel.onclick = () => {\n",
              "      resolve(null);\n",
              "    };\n",
              "  });\n",
              "\n",
              "  // Wait for the user to pick the files.\n",
              "  const files = yield {\n",
              "    promise: Promise.race([pickedPromise, cancelPromise]),\n",
              "    response: {\n",
              "      action: 'starting',\n",
              "    }\n",
              "  };\n",
              "\n",
              "  cancel.remove();\n",
              "\n",
              "  // Disable the input element since further picks are not allowed.\n",
              "  inputElement.disabled = true;\n",
              "\n",
              "  if (!files) {\n",
              "    return {\n",
              "      response: {\n",
              "        action: 'complete',\n",
              "      }\n",
              "    };\n",
              "  }\n",
              "\n",
              "  for (const file of files) {\n",
              "    const li = document.createElement('li');\n",
              "    li.append(span(file.name, {fontWeight: 'bold'}));\n",
              "    li.append(span(\n",
              "        `(${file.type || 'n/a'}) - ${file.size} bytes, ` +\n",
              "        `last modified: ${\n",
              "            file.lastModifiedDate ? file.lastModifiedDate.toLocaleDateString() :\n",
              "                                    'n/a'} - `));\n",
              "    const percent = span('0% done');\n",
              "    li.appendChild(percent);\n",
              "\n",
              "    outputElement.appendChild(li);\n",
              "\n",
              "    const fileDataPromise = new Promise((resolve) => {\n",
              "      const reader = new FileReader();\n",
              "      reader.onload = (e) => {\n",
              "        resolve(e.target.result);\n",
              "      };\n",
              "      reader.readAsArrayBuffer(file);\n",
              "    });\n",
              "    // Wait for the data to be ready.\n",
              "    let fileData = yield {\n",
              "      promise: fileDataPromise,\n",
              "      response: {\n",
              "        action: 'continue',\n",
              "      }\n",
              "    };\n",
              "\n",
              "    // Use a chunked sending to avoid message size limits. See b/62115660.\n",
              "    let position = 0;\n",
              "    do {\n",
              "      const length = Math.min(fileData.byteLength - position, MAX_PAYLOAD_SIZE);\n",
              "      const chunk = new Uint8Array(fileData, position, length);\n",
              "      position += length;\n",
              "\n",
              "      const base64 = btoa(String.fromCharCode.apply(null, chunk));\n",
              "      yield {\n",
              "        response: {\n",
              "          action: 'append',\n",
              "          file: file.name,\n",
              "          data: base64,\n",
              "        },\n",
              "      };\n",
              "\n",
              "      let percentDone = fileData.byteLength === 0 ?\n",
              "          100 :\n",
              "          Math.round((position / fileData.byteLength) * 100);\n",
              "      percent.textContent = `${percentDone}% done`;\n",
              "\n",
              "    } while (position < fileData.byteLength);\n",
              "  }\n",
              "\n",
              "  // All done.\n",
              "  yield {\n",
              "    response: {\n",
              "      action: 'complete',\n",
              "    }\n",
              "  };\n",
              "}\n",
              "\n",
              "scope.google = scope.google || {};\n",
              "scope.google.colab = scope.google.colab || {};\n",
              "scope.google.colab._files = {\n",
              "  _uploadFiles,\n",
              "  _uploadFilesContinue,\n",
              "};\n",
              "})(self);\n",
              "</script> "
            ]
          },
          "metadata": {}
        },
        {
          "output_type": "stream",
          "name": "stdout",
          "text": [
            "Saving insurance.csv to insurance.csv\n"
          ]
        }
      ]
    },
    {
      "cell_type": "code",
      "source": [
        "from sklearn.metrics import mean_squared_error, r2_score,mean_absolute_error\n",
        "df=pd.read_csv('insurance.csv')\n",
        "df.head()\n",
        "df['sex']=LabelEncoder().fit_transform(df['sex'])\n",
        "df['smoker']=LabelEncoder().fit_transform(df['smoker'])\n",
        "df['region']=LabelEncoder().fit_transform(df['region'])\n",
        "df.head()"
      ],
      "metadata": {
        "id": "2_2tsiEkPRwN",
        "colab": {
          "base_uri": "https://localhost:8080/",
          "height": 206
        },
        "outputId": "42866a88-7f50-4c9e-baeb-a03243ed454e"
      },
      "execution_count": 15,
      "outputs": [
        {
          "output_type": "execute_result",
          "data": {
            "text/plain": [
              "   age  sex     bmi  children  smoker  region      charges\n",
              "0   19    0  27.900         0       1       3  16884.92400\n",
              "1   18    1  33.770         1       0       2   1725.55230\n",
              "2   28    1  33.000         3       0       2   4449.46200\n",
              "3   33    1  22.705         0       0       1  21984.47061\n",
              "4   32    1  28.880         0       0       1   3866.85520"
            ],
            "text/html": [
              "\n",
              "  <div id=\"df-77f7ff6b-8a41-4e78-a8c9-144abf763118\" class=\"colab-df-container\">\n",
              "    <div>\n",
              "<style scoped>\n",
              "    .dataframe tbody tr th:only-of-type {\n",
              "        vertical-align: middle;\n",
              "    }\n",
              "\n",
              "    .dataframe tbody tr th {\n",
              "        vertical-align: top;\n",
              "    }\n",
              "\n",
              "    .dataframe thead th {\n",
              "        text-align: right;\n",
              "    }\n",
              "</style>\n",
              "<table border=\"1\" class=\"dataframe\">\n",
              "  <thead>\n",
              "    <tr style=\"text-align: right;\">\n",
              "      <th></th>\n",
              "      <th>age</th>\n",
              "      <th>sex</th>\n",
              "      <th>bmi</th>\n",
              "      <th>children</th>\n",
              "      <th>smoker</th>\n",
              "      <th>region</th>\n",
              "      <th>charges</th>\n",
              "    </tr>\n",
              "  </thead>\n",
              "  <tbody>\n",
              "    <tr>\n",
              "      <th>0</th>\n",
              "      <td>19</td>\n",
              "      <td>0</td>\n",
              "      <td>27.900</td>\n",
              "      <td>0</td>\n",
              "      <td>1</td>\n",
              "      <td>3</td>\n",
              "      <td>16884.92400</td>\n",
              "    </tr>\n",
              "    <tr>\n",
              "      <th>1</th>\n",
              "      <td>18</td>\n",
              "      <td>1</td>\n",
              "      <td>33.770</td>\n",
              "      <td>1</td>\n",
              "      <td>0</td>\n",
              "      <td>2</td>\n",
              "      <td>1725.55230</td>\n",
              "    </tr>\n",
              "    <tr>\n",
              "      <th>2</th>\n",
              "      <td>28</td>\n",
              "      <td>1</td>\n",
              "      <td>33.000</td>\n",
              "      <td>3</td>\n",
              "      <td>0</td>\n",
              "      <td>2</td>\n",
              "      <td>4449.46200</td>\n",
              "    </tr>\n",
              "    <tr>\n",
              "      <th>3</th>\n",
              "      <td>33</td>\n",
              "      <td>1</td>\n",
              "      <td>22.705</td>\n",
              "      <td>0</td>\n",
              "      <td>0</td>\n",
              "      <td>1</td>\n",
              "      <td>21984.47061</td>\n",
              "    </tr>\n",
              "    <tr>\n",
              "      <th>4</th>\n",
              "      <td>32</td>\n",
              "      <td>1</td>\n",
              "      <td>28.880</td>\n",
              "      <td>0</td>\n",
              "      <td>0</td>\n",
              "      <td>1</td>\n",
              "      <td>3866.85520</td>\n",
              "    </tr>\n",
              "  </tbody>\n",
              "</table>\n",
              "</div>\n",
              "    <div class=\"colab-df-buttons\">\n",
              "\n",
              "  <div class=\"colab-df-container\">\n",
              "    <button class=\"colab-df-convert\" onclick=\"convertToInteractive('df-77f7ff6b-8a41-4e78-a8c9-144abf763118')\"\n",
              "            title=\"Convert this dataframe to an interactive table.\"\n",
              "            style=\"display:none;\">\n",
              "\n",
              "  <svg xmlns=\"http://www.w3.org/2000/svg\" height=\"24px\" viewBox=\"0 -960 960 960\">\n",
              "    <path d=\"M120-120v-720h720v720H120Zm60-500h600v-160H180v160Zm220 220h160v-160H400v160Zm0 220h160v-160H400v160ZM180-400h160v-160H180v160Zm440 0h160v-160H620v160ZM180-180h160v-160H180v160Zm440 0h160v-160H620v160Z\"/>\n",
              "  </svg>\n",
              "    </button>\n",
              "\n",
              "  <style>\n",
              "    .colab-df-container {\n",
              "      display:flex;\n",
              "      gap: 12px;\n",
              "    }\n",
              "\n",
              "    .colab-df-convert {\n",
              "      background-color: #E8F0FE;\n",
              "      border: none;\n",
              "      border-radius: 50%;\n",
              "      cursor: pointer;\n",
              "      display: none;\n",
              "      fill: #1967D2;\n",
              "      height: 32px;\n",
              "      padding: 0 0 0 0;\n",
              "      width: 32px;\n",
              "    }\n",
              "\n",
              "    .colab-df-convert:hover {\n",
              "      background-color: #E2EBFA;\n",
              "      box-shadow: 0px 1px 2px rgba(60, 64, 67, 0.3), 0px 1px 3px 1px rgba(60, 64, 67, 0.15);\n",
              "      fill: #174EA6;\n",
              "    }\n",
              "\n",
              "    .colab-df-buttons div {\n",
              "      margin-bottom: 4px;\n",
              "    }\n",
              "\n",
              "    [theme=dark] .colab-df-convert {\n",
              "      background-color: #3B4455;\n",
              "      fill: #D2E3FC;\n",
              "    }\n",
              "\n",
              "    [theme=dark] .colab-df-convert:hover {\n",
              "      background-color: #434B5C;\n",
              "      box-shadow: 0px 1px 3px 1px rgba(0, 0, 0, 0.15);\n",
              "      filter: drop-shadow(0px 1px 2px rgba(0, 0, 0, 0.3));\n",
              "      fill: #FFFFFF;\n",
              "    }\n",
              "  </style>\n",
              "\n",
              "    <script>\n",
              "      const buttonEl =\n",
              "        document.querySelector('#df-77f7ff6b-8a41-4e78-a8c9-144abf763118 button.colab-df-convert');\n",
              "      buttonEl.style.display =\n",
              "        google.colab.kernel.accessAllowed ? 'block' : 'none';\n",
              "\n",
              "      async function convertToInteractive(key) {\n",
              "        const element = document.querySelector('#df-77f7ff6b-8a41-4e78-a8c9-144abf763118');\n",
              "        const dataTable =\n",
              "          await google.colab.kernel.invokeFunction('convertToInteractive',\n",
              "                                                    [key], {});\n",
              "        if (!dataTable) return;\n",
              "\n",
              "        const docLinkHtml = 'Like what you see? Visit the ' +\n",
              "          '<a target=\"_blank\" href=https://colab.research.google.com/notebooks/data_table.ipynb>data table notebook</a>'\n",
              "          + ' to learn more about interactive tables.';\n",
              "        element.innerHTML = '';\n",
              "        dataTable['output_type'] = 'display_data';\n",
              "        await google.colab.output.renderOutput(dataTable, element);\n",
              "        const docLink = document.createElement('div');\n",
              "        docLink.innerHTML = docLinkHtml;\n",
              "        element.appendChild(docLink);\n",
              "      }\n",
              "    </script>\n",
              "  </div>\n",
              "\n",
              "\n",
              "<div id=\"df-10854699-28b9-4d3b-8943-d4e5d4326846\">\n",
              "  <button class=\"colab-df-quickchart\" onclick=\"quickchart('df-10854699-28b9-4d3b-8943-d4e5d4326846')\"\n",
              "            title=\"Suggest charts\"\n",
              "            style=\"display:none;\">\n",
              "\n",
              "<svg xmlns=\"http://www.w3.org/2000/svg\" height=\"24px\"viewBox=\"0 0 24 24\"\n",
              "     width=\"24px\">\n",
              "    <g>\n",
              "        <path d=\"M19 3H5c-1.1 0-2 .9-2 2v14c0 1.1.9 2 2 2h14c1.1 0 2-.9 2-2V5c0-1.1-.9-2-2-2zM9 17H7v-7h2v7zm4 0h-2V7h2v10zm4 0h-2v-4h2v4z\"/>\n",
              "    </g>\n",
              "</svg>\n",
              "  </button>\n",
              "\n",
              "<style>\n",
              "  .colab-df-quickchart {\n",
              "      --bg-color: #E8F0FE;\n",
              "      --fill-color: #1967D2;\n",
              "      --hover-bg-color: #E2EBFA;\n",
              "      --hover-fill-color: #174EA6;\n",
              "      --disabled-fill-color: #AAA;\n",
              "      --disabled-bg-color: #DDD;\n",
              "  }\n",
              "\n",
              "  [theme=dark] .colab-df-quickchart {\n",
              "      --bg-color: #3B4455;\n",
              "      --fill-color: #D2E3FC;\n",
              "      --hover-bg-color: #434B5C;\n",
              "      --hover-fill-color: #FFFFFF;\n",
              "      --disabled-bg-color: #3B4455;\n",
              "      --disabled-fill-color: #666;\n",
              "  }\n",
              "\n",
              "  .colab-df-quickchart {\n",
              "    background-color: var(--bg-color);\n",
              "    border: none;\n",
              "    border-radius: 50%;\n",
              "    cursor: pointer;\n",
              "    display: none;\n",
              "    fill: var(--fill-color);\n",
              "    height: 32px;\n",
              "    padding: 0;\n",
              "    width: 32px;\n",
              "  }\n",
              "\n",
              "  .colab-df-quickchart:hover {\n",
              "    background-color: var(--hover-bg-color);\n",
              "    box-shadow: 0 1px 2px rgba(60, 64, 67, 0.3), 0 1px 3px 1px rgba(60, 64, 67, 0.15);\n",
              "    fill: var(--button-hover-fill-color);\n",
              "  }\n",
              "\n",
              "  .colab-df-quickchart-complete:disabled,\n",
              "  .colab-df-quickchart-complete:disabled:hover {\n",
              "    background-color: var(--disabled-bg-color);\n",
              "    fill: var(--disabled-fill-color);\n",
              "    box-shadow: none;\n",
              "  }\n",
              "\n",
              "  .colab-df-spinner {\n",
              "    border: 2px solid var(--fill-color);\n",
              "    border-color: transparent;\n",
              "    border-bottom-color: var(--fill-color);\n",
              "    animation:\n",
              "      spin 1s steps(1) infinite;\n",
              "  }\n",
              "\n",
              "  @keyframes spin {\n",
              "    0% {\n",
              "      border-color: transparent;\n",
              "      border-bottom-color: var(--fill-color);\n",
              "      border-left-color: var(--fill-color);\n",
              "    }\n",
              "    20% {\n",
              "      border-color: transparent;\n",
              "      border-left-color: var(--fill-color);\n",
              "      border-top-color: var(--fill-color);\n",
              "    }\n",
              "    30% {\n",
              "      border-color: transparent;\n",
              "      border-left-color: var(--fill-color);\n",
              "      border-top-color: var(--fill-color);\n",
              "      border-right-color: var(--fill-color);\n",
              "    }\n",
              "    40% {\n",
              "      border-color: transparent;\n",
              "      border-right-color: var(--fill-color);\n",
              "      border-top-color: var(--fill-color);\n",
              "    }\n",
              "    60% {\n",
              "      border-color: transparent;\n",
              "      border-right-color: var(--fill-color);\n",
              "    }\n",
              "    80% {\n",
              "      border-color: transparent;\n",
              "      border-right-color: var(--fill-color);\n",
              "      border-bottom-color: var(--fill-color);\n",
              "    }\n",
              "    90% {\n",
              "      border-color: transparent;\n",
              "      border-bottom-color: var(--fill-color);\n",
              "    }\n",
              "  }\n",
              "</style>\n",
              "\n",
              "  <script>\n",
              "    async function quickchart(key) {\n",
              "      const quickchartButtonEl =\n",
              "        document.querySelector('#' + key + ' button');\n",
              "      quickchartButtonEl.disabled = true;  // To prevent multiple clicks.\n",
              "      quickchartButtonEl.classList.add('colab-df-spinner');\n",
              "      try {\n",
              "        const charts = await google.colab.kernel.invokeFunction(\n",
              "            'suggestCharts', [key], {});\n",
              "      } catch (error) {\n",
              "        console.error('Error during call to suggestCharts:', error);\n",
              "      }\n",
              "      quickchartButtonEl.classList.remove('colab-df-spinner');\n",
              "      quickchartButtonEl.classList.add('colab-df-quickchart-complete');\n",
              "    }\n",
              "    (() => {\n",
              "      let quickchartButtonEl =\n",
              "        document.querySelector('#df-10854699-28b9-4d3b-8943-d4e5d4326846 button');\n",
              "      quickchartButtonEl.style.display =\n",
              "        google.colab.kernel.accessAllowed ? 'block' : 'none';\n",
              "    })();\n",
              "  </script>\n",
              "</div>\n",
              "\n",
              "    </div>\n",
              "  </div>\n"
            ],
            "application/vnd.google.colaboratory.intrinsic+json": {
              "type": "dataframe",
              "variable_name": "df",
              "summary": "{\n  \"name\": \"df\",\n  \"rows\": 1338,\n  \"fields\": [\n    {\n      \"column\": \"age\",\n      \"properties\": {\n        \"dtype\": \"number\",\n        \"std\": 14,\n        \"min\": 18,\n        \"max\": 64,\n        \"num_unique_values\": 47,\n        \"samples\": [\n          21,\n          45,\n          36\n        ],\n        \"semantic_type\": \"\",\n        \"description\": \"\"\n      }\n    },\n    {\n      \"column\": \"sex\",\n      \"properties\": {\n        \"dtype\": \"number\",\n        \"std\": 0,\n        \"min\": 0,\n        \"max\": 1,\n        \"num_unique_values\": 2,\n        \"samples\": [\n          1,\n          0\n        ],\n        \"semantic_type\": \"\",\n        \"description\": \"\"\n      }\n    },\n    {\n      \"column\": \"bmi\",\n      \"properties\": {\n        \"dtype\": \"number\",\n        \"std\": 6.098186911679017,\n        \"min\": 15.96,\n        \"max\": 53.13,\n        \"num_unique_values\": 548,\n        \"samples\": [\n          23.18,\n          26.885\n        ],\n        \"semantic_type\": \"\",\n        \"description\": \"\"\n      }\n    },\n    {\n      \"column\": \"children\",\n      \"properties\": {\n        \"dtype\": \"number\",\n        \"std\": 1,\n        \"min\": 0,\n        \"max\": 5,\n        \"num_unique_values\": 6,\n        \"samples\": [\n          0,\n          1\n        ],\n        \"semantic_type\": \"\",\n        \"description\": \"\"\n      }\n    },\n    {\n      \"column\": \"smoker\",\n      \"properties\": {\n        \"dtype\": \"number\",\n        \"std\": 0,\n        \"min\": 0,\n        \"max\": 1,\n        \"num_unique_values\": 2,\n        \"samples\": [\n          0,\n          1\n        ],\n        \"semantic_type\": \"\",\n        \"description\": \"\"\n      }\n    },\n    {\n      \"column\": \"region\",\n      \"properties\": {\n        \"dtype\": \"number\",\n        \"std\": 1,\n        \"min\": 0,\n        \"max\": 3,\n        \"num_unique_values\": 4,\n        \"samples\": [\n          2,\n          0\n        ],\n        \"semantic_type\": \"\",\n        \"description\": \"\"\n      }\n    },\n    {\n      \"column\": \"charges\",\n      \"properties\": {\n        \"dtype\": \"number\",\n        \"std\": 12110.011236693994,\n        \"min\": 1121.8739,\n        \"max\": 63770.42801,\n        \"num_unique_values\": 1337,\n        \"samples\": [\n          8688.85885,\n          5708.867\n        ],\n        \"semantic_type\": \"\",\n        \"description\": \"\"\n      }\n    }\n  ]\n}"
            }
          },
          "metadata": {},
          "execution_count": 15
        }
      ]
    },
    {
      "cell_type": "code",
      "source": [
        "X=df.drop('charges',axis=1)\n",
        "y=df['charges']\n",
        "x_train,x_test,y_train,y_test=train_test_split(X,y,test_size=0.2,random_state=42)\n",
        "scaler=StandardScaler()\n",
        "x_train=scaler.fit_transform(x_train)\n",
        "x_test=scaler.transform(x_test)\n",
        "from sklearn.ensemble import RandomForestRegressor\n",
        "rf=RandomForestRegressor(n_estimators=100,random_state=42)\n",
        "rf.fit(x_train,y_train)\n",
        "y_pred_rf=rf.predict(x_test)\n",
        "r2_rf=r2_score(y_test,y_pred_rf)\n",
        "print(f\"Model performance score(mse) using RandomForestRegressor is {r2_rf}\")\n",
        "print(mean_absolute_error(y_test,y_pred_rf))"
      ],
      "metadata": {
        "colab": {
          "base_uri": "https://localhost:8080/"
        },
        "id": "WYg-qQAQqxKs",
        "outputId": "bf59aa23-9efa-4f97-c9f2-9d6d1cb8f3b6"
      },
      "execution_count": 17,
      "outputs": [
        {
          "output_type": "stream",
          "name": "stdout",
          "text": [
            "Model performance score(mse) using RandomForestRegressor is 0.8653861739369313\n",
            "2518.4756348106666\n"
          ]
        }
      ]
    },
    {
      "cell_type": "code",
      "source": [
        "dt=DecisionTreeRegressor(random_state=42)\n",
        "dt.fit(x_train,y_train)\n",
        "y_pred_dt=dt.predict(x_test)\n",
        "r2_dt=r2_score(y_test,y_pred_dt)\n",
        "print(f\"Model performance score(mse) using DecisionTreeRegressor is {r2_dt}\")\n",
        "print(mean_absolute_error(y_test,y_pred_dt))\n",
        "\n",
        "if r2_rf<r2_dt:\n",
        "  print(\"Observation: DecisionTreeRegressor performs better than RandomForestRegressor\")\n",
        "else:\n",
        "  print(\"Observation: RandomForestRegressor performs better than single DecisionTreeRegressor\")"
      ],
      "metadata": {
        "colab": {
          "base_uri": "https://localhost:8080/"
        },
        "id": "-eCmcr50TObq",
        "outputId": "95b4eb8e-8a3c-45ba-c235-7f5b958d438e"
      },
      "execution_count": 19,
      "outputs": [
        {
          "output_type": "stream",
          "name": "stdout",
          "text": [
            "Model performance score(mse) using DecisionTreeRegressor is 0.6950075471882797\n",
            "3070.0831479067165\n",
            "Observation: RandomForestRegressor performs better than single DecisionTreeRegressor\n"
          ]
        }
      ]
    },
    {
      "cell_type": "markdown",
      "source": [
        "###25.Compute the Out-of-Bag (OOB) Score for a Random Forest Classifier"
      ],
      "metadata": {
        "id": "Gkee-aqTuTzb"
      }
    },
    {
      "cell_type": "code",
      "source": [
        "from sklearn.datasets import load_iris\n",
        "data=load_iris()\n",
        "x=pd.DataFrame(data.data,columns=data.feature_names)\n",
        "y=pd.Series(data.target)\n",
        "x_train,x_test,y_train,y_test=train_test_split(x,y,test_size=0.2,random_state=42)\n",
        "from sklearn.ensemble import RandomForestClassifier\n",
        "rf_oob=RandomForestClassifier(n_estimators=100,oob_score=True,random_state=42)\n",
        "rf_oob.fit(x_train,y_train)\n",
        "rf_oob.oob_score_"
      ],
      "metadata": {
        "id": "r11zIsAUZCkr",
        "colab": {
          "base_uri": "https://localhost:8080/"
        },
        "outputId": "824349c9-ff96-4e55-f2be-0d191691e351"
      },
      "execution_count": 21,
      "outputs": [
        {
          "output_type": "execute_result",
          "data": {
            "text/plain": [
              "0.9166666666666666"
            ]
          },
          "metadata": {},
          "execution_count": 21
        }
      ]
    },
    {
      "cell_type": "markdown",
      "source": [
        "###26.Train a Bagging Classifier using SVM as a base estimator and print accuracy."
      ],
      "metadata": {
        "id": "eU9g5mdMxjmJ"
      }
    },
    {
      "cell_type": "code",
      "source": [
        "from sklearn.svm import SVC\n",
        "from sklearn.ensemble import BaggingClassifier\n",
        "from sklearn.datasets import make_classification\n",
        "x,y=make_classification(n_samples=1000,n_features=10,n_informative=3,n_redundant=0,random_state=0,shuffle=False)\n",
        "x_train,x_test,y_train,y_test=train_test_split(x,y,test_size=0.2,random_state=42)\n",
        "bag=BaggingClassifier(estimator=SVC(),n_estimators=100,random_state=42)\n",
        "bag.fit(x_train,y_train)\n",
        "y_pred=bag.predict(x_test)\n",
        "accuracy_score(y_test,y_pred)"
      ],
      "metadata": {
        "colab": {
          "base_uri": "https://localhost:8080/"
        },
        "id": "lRKV3STdxlOw",
        "outputId": "af5fc4ca-719d-449e-9196-c4e3f56aa6b5"
      },
      "execution_count": 23,
      "outputs": [
        {
          "output_type": "execute_result",
          "data": {
            "text/plain": [
              "0.945"
            ]
          },
          "metadata": {},
          "execution_count": 23
        }
      ]
    },
    {
      "cell_type": "markdown",
      "source": [
        "###27.Train a Random Forest Classifier with different numbers of trees and compare accuracy"
      ],
      "metadata": {
        "id": "GKPgX-CiyDB0"
      }
    },
    {
      "cell_type": "code",
      "source": [
        "tree_counts = [10, 50, 100, 200]\n",
        "for n in tree_counts:\n",
        "    rfc_model = RandomForestClassifier(n_estimators=n, random_state=42)\n",
        "    rfc_model.fit(x_train, y_train)\n",
        "    y_pred = rfc_model.predict(x_test)\n",
        "    accuracy = accuracy_score(y_test, y_pred)\n",
        "    print(f\"Number of trees: {n}, Accuracy: {accuracy:.4f}\")"
      ],
      "metadata": {
        "colab": {
          "base_uri": "https://localhost:8080/"
        },
        "id": "EUbeUFi0yEjk",
        "outputId": "1612ba9f-f7f4-407b-d5b9-7e60e91b97ab"
      },
      "execution_count": 24,
      "outputs": [
        {
          "output_type": "stream",
          "name": "stdout",
          "text": [
            "Number of trees: 10, Accuracy: 0.9400\n",
            "Number of trees: 50, Accuracy: 0.9600\n",
            "Number of trees: 100, Accuracy: 0.9550\n",
            "Number of trees: 200, Accuracy: 0.9600\n"
          ]
        }
      ]
    },
    {
      "cell_type": "markdown",
      "source": [
        "###28Train a Bagging Classifier using Logistic Regression as a base estimator and print AUC score."
      ],
      "metadata": {
        "id": "X3y_Je-YzZ81"
      }
    },
    {
      "cell_type": "code",
      "source": [
        "from sklearn.linear_model import LogisticRegression\n",
        "from sklearn.metrics import roc_auc_score\n",
        "from sklearn.datasets import load_wine\n",
        "data=load_wine()\n",
        "x=pd.DataFrame(data.data,columns=data.feature_names)\n",
        "y=pd.Series(data.target)\n",
        "x_train,x_test,y_train,y_test=train_test_split(x,y,test_size=0.2,random_state=42)\n",
        "scaler=StandardScaler()\n",
        "x_train=scaler.fit_transform(x_train)\n",
        "x_test=scaler.transform(x_test)\n",
        "bag=BaggingClassifier(estimator=LogisticRegression(),n_estimators=100,random_state=42)\n",
        "bag.fit(x_train,y_train)\n",
        "y_pred=bag.predict(x_test)\n",
        "y_pred_prob=bag.predict_proba(x_test,)\n",
        "print(f\"AUC score using LogisticRegression on wine classifier dataset iss : {roc_auc_score(y_test,y_pred_prob,multi_class='ovr')}\")"
      ],
      "metadata": {
        "colab": {
          "base_uri": "https://localhost:8080/"
        },
        "id": "WP-8aM8czb99",
        "outputId": "88ad1337-4817-497f-c9aa-2edac866f4c3"
      },
      "execution_count": 33,
      "outputs": [
        {
          "output_type": "stream",
          "name": "stdout",
          "text": [
            "AUC score using LogisticRegression on wine classifier dataset iss : 1.0\n"
          ]
        }
      ]
    },
    {
      "cell_type": "markdown",
      "source": [
        "###29.Train a Random Forest Regressor and analyze feature importance scores"
      ],
      "metadata": {
        "id": "Z14ycQ0t2KW3"
      }
    },
    {
      "cell_type": "code",
      "source": [
        "data=sns.load_dataset('tips')\n",
        "data.head()\n",
        "X=data.drop('tip',axis=1)\n",
        "y=data['tip']\n",
        "column_names=X.columns\n",
        "x_train,x_test,y_train,y_test=train_test_split(X,y,test_size=0.2,random_state=42)\n",
        "\n",
        "label_encoders = {}\n",
        "for column in ['sex', 'smoker', 'day','time']:\n",
        "    label_encoders[column] = LabelEncoder()\n",
        "    x_train[column] = label_encoders[column].fit_transform(x_train[column])\n",
        "    x_test[column] = label_encoders[column].transform(x_test[column])\n",
        "\n",
        "rf=RandomForestRegressor(n_estimators=100,random_state=42)\n",
        "rf.fit(x_train,y_train)\n",
        "y_pred=rf.predict(x_test)\n",
        "importance_scores=rf.feature_importances_\n",
        "feature_importance = zip(column_names, importance_scores)\n",
        "\n",
        "for column, score in feature_importance:\n",
        "    print(f\"{column}: {score:.4f}\")\n",
        "#Observation To predict Tip ,Total_bill is the most important feature"
      ],
      "metadata": {
        "colab": {
          "base_uri": "https://localhost:8080/"
        },
        "id": "Jn6wNEJe2L6n",
        "outputId": "a5f2b52c-9b4a-4dd9-dab3-9996f1bfef8d"
      },
      "execution_count": 41,
      "outputs": [
        {
          "output_type": "stream",
          "name": "stdout",
          "text": [
            "total_bill: 0.7689\n",
            "sex: 0.0269\n",
            "smoker: 0.0710\n",
            "day: 0.0605\n",
            "time: 0.0137\n",
            "size: 0.0590\n"
          ]
        }
      ]
    },
    {
      "cell_type": "markdown",
      "source": [
        "###30.Train an ensemble model using both Bagging and Random Forest and compare accuracy."
      ],
      "metadata": {
        "id": "jw2bM6Lm96WB"
      }
    },
    {
      "cell_type": "code",
      "source": [
        "data=sns.load_dataset('tips')\n",
        "data.head()\n",
        "X=data.drop('total_bill',axis=1)\n",
        "y=data['total_bill']\n",
        "column_names=X.columns\n",
        "x_train,x_test,y_train,y_test=train_test_split(X,y,test_size=0.2,random_state=42)\n",
        "\n",
        "label_encoders = {}\n",
        "for column in ['sex', 'smoker', 'day','time']:\n",
        "    label_encoders[column] = LabelEncoder()\n",
        "    x_train[column] = label_encoders[column].fit_transform(x_train[column])\n",
        "    x_test[column] = label_encoders[column].transform(x_test[column])\n",
        "\n",
        "rf=RandomForestRegressor(n_estimators=100,random_state=42)\n",
        "rf.fit(x_train,y_train)\n",
        "y_pred=rf.predict(x_test)\n",
        "print(f\"Accuracy using RandomForestRegressor is {r2_score(y_test,y_pred)}\")\n",
        "\n",
        "\n",
        "bag=BaggingRegressor(estimator=DecisionTreeRegressor(),n_estimators=100,random_state=42)\n",
        "bag.fit(x_train,y_train)\n",
        "y_pred=bag.predict(x_test)\n",
        "print(f\"Accuracy using BaggingRegressor is {r2_score(y_test,y_pred)}\")\n",
        "\n",
        "# Almost both the models performing the same"
      ],
      "metadata": {
        "colab": {
          "base_uri": "https://localhost:8080/"
        },
        "id": "bPGOtg5G970p",
        "outputId": "6e21fcaa-05fd-40b2-b7c2-b530ae55ec66"
      },
      "execution_count": 43,
      "outputs": [
        {
          "output_type": "stream",
          "name": "stdout",
          "text": [
            "Accuracy using RandomForestRegressor is 0.49602396904250834\n",
            "Accuracy using BaggingRegressor is 0.49877401554607037\n"
          ]
        }
      ]
    },
    {
      "cell_type": "markdown",
      "source": [
        "###31.Train a Random Forest Classifier and tune hyperparameters using GridSearchCV"
      ],
      "metadata": {
        "id": "DKwMgInBBhrh"
      }
    },
    {
      "cell_type": "code",
      "source": [
        "from sklearn.model_selection import GridSearchCV\n",
        "from sklearn.datasets import load_iris\n",
        "data=load_iris()\n",
        "x=pd.DataFrame(data.data,columns=data.feature_names)\n",
        "y=pd.Series(data.target)\n",
        "x_train,x_test,y_train,y_test=train_test_split(x,y,test_size=0.2,random_state=42)\n",
        "rf=RandomForestClassifier()\n",
        "params={'n_estimators':[10,30,50,100,200],'max_depth':[None,10,20,30],'min_samples_split':[2,5,10],'min_samples_leaf':[2,4,6,10]}\n",
        "grid_search=GridSearchCV(estimator=rf,param_grid=params,cv=5)\n",
        "grid_search.fit(x_train,y_train)\n",
        "best_params=grid_search.best_params_\n",
        "best_model=grid_search.best_estimator_\n",
        "y_pred=best_model.predict(x_test)\n",
        "accuracy_score(y_test,y_pred)"
      ],
      "metadata": {
        "colab": {
          "base_uri": "https://localhost:8080/"
        },
        "id": "Ia3sa9IbBq0h",
        "outputId": "8c6bda46-06bf-4f12-d99d-4c545bd2ba3a"
      },
      "execution_count": 44,
      "outputs": [
        {
          "output_type": "execute_result",
          "data": {
            "text/plain": [
              "1.0"
            ]
          },
          "metadata": {},
          "execution_count": 44
        }
      ]
    },
    {
      "cell_type": "code",
      "source": [
        "best_params"
      ],
      "metadata": {
        "colab": {
          "base_uri": "https://localhost:8080/"
        },
        "id": "NcSz5K6ED1OR",
        "outputId": "50f7303a-bbe5-49db-9deb-269145ad1d1f"
      },
      "execution_count": 45,
      "outputs": [
        {
          "output_type": "execute_result",
          "data": {
            "text/plain": [
              "{'max_depth': None,\n",
              " 'min_samples_leaf': 2,\n",
              " 'min_samples_split': 10,\n",
              " 'n_estimators': 50}"
            ]
          },
          "metadata": {},
          "execution_count": 45
        }
      ]
    },
    {
      "cell_type": "markdown",
      "source": [
        "###32.Train a Bagging Regressor with different numbers of base estimators and compare performance"
      ],
      "metadata": {
        "id": "Fjjwv9LaD_dJ"
      }
    },
    {
      "cell_type": "code",
      "source": [
        "from google.colab import files\n",
        "uploaded=files.upload()"
      ],
      "metadata": {
        "colab": {
          "base_uri": "https://localhost:8080/",
          "height": 74
        },
        "id": "GsQmNMP2Xg7b",
        "outputId": "4064fd64-baf0-4093-e382-0a9f883939e9"
      },
      "execution_count": 62,
      "outputs": [
        {
          "output_type": "display_data",
          "data": {
            "text/plain": [
              "<IPython.core.display.HTML object>"
            ],
            "text/html": [
              "\n",
              "     <input type=\"file\" id=\"files-1d07a365-28fd-4091-a71d-1fe930406638\" name=\"files[]\" multiple disabled\n",
              "        style=\"border:none\" />\n",
              "     <output id=\"result-1d07a365-28fd-4091-a71d-1fe930406638\">\n",
              "      Upload widget is only available when the cell has been executed in the\n",
              "      current browser session. Please rerun this cell to enable.\n",
              "      </output>\n",
              "      <script>// Copyright 2017 Google LLC\n",
              "//\n",
              "// Licensed under the Apache License, Version 2.0 (the \"License\");\n",
              "// you may not use this file except in compliance with the License.\n",
              "// You may obtain a copy of the License at\n",
              "//\n",
              "//      http://www.apache.org/licenses/LICENSE-2.0\n",
              "//\n",
              "// Unless required by applicable law or agreed to in writing, software\n",
              "// distributed under the License is distributed on an \"AS IS\" BASIS,\n",
              "// WITHOUT WARRANTIES OR CONDITIONS OF ANY KIND, either express or implied.\n",
              "// See the License for the specific language governing permissions and\n",
              "// limitations under the License.\n",
              "\n",
              "/**\n",
              " * @fileoverview Helpers for google.colab Python module.\n",
              " */\n",
              "(function(scope) {\n",
              "function span(text, styleAttributes = {}) {\n",
              "  const element = document.createElement('span');\n",
              "  element.textContent = text;\n",
              "  for (const key of Object.keys(styleAttributes)) {\n",
              "    element.style[key] = styleAttributes[key];\n",
              "  }\n",
              "  return element;\n",
              "}\n",
              "\n",
              "// Max number of bytes which will be uploaded at a time.\n",
              "const MAX_PAYLOAD_SIZE = 100 * 1024;\n",
              "\n",
              "function _uploadFiles(inputId, outputId) {\n",
              "  const steps = uploadFilesStep(inputId, outputId);\n",
              "  const outputElement = document.getElementById(outputId);\n",
              "  // Cache steps on the outputElement to make it available for the next call\n",
              "  // to uploadFilesContinue from Python.\n",
              "  outputElement.steps = steps;\n",
              "\n",
              "  return _uploadFilesContinue(outputId);\n",
              "}\n",
              "\n",
              "// This is roughly an async generator (not supported in the browser yet),\n",
              "// where there are multiple asynchronous steps and the Python side is going\n",
              "// to poll for completion of each step.\n",
              "// This uses a Promise to block the python side on completion of each step,\n",
              "// then passes the result of the previous step as the input to the next step.\n",
              "function _uploadFilesContinue(outputId) {\n",
              "  const outputElement = document.getElementById(outputId);\n",
              "  const steps = outputElement.steps;\n",
              "\n",
              "  const next = steps.next(outputElement.lastPromiseValue);\n",
              "  return Promise.resolve(next.value.promise).then((value) => {\n",
              "    // Cache the last promise value to make it available to the next\n",
              "    // step of the generator.\n",
              "    outputElement.lastPromiseValue = value;\n",
              "    return next.value.response;\n",
              "  });\n",
              "}\n",
              "\n",
              "/**\n",
              " * Generator function which is called between each async step of the upload\n",
              " * process.\n",
              " * @param {string} inputId Element ID of the input file picker element.\n",
              " * @param {string} outputId Element ID of the output display.\n",
              " * @return {!Iterable<!Object>} Iterable of next steps.\n",
              " */\n",
              "function* uploadFilesStep(inputId, outputId) {\n",
              "  const inputElement = document.getElementById(inputId);\n",
              "  inputElement.disabled = false;\n",
              "\n",
              "  const outputElement = document.getElementById(outputId);\n",
              "  outputElement.innerHTML = '';\n",
              "\n",
              "  const pickedPromise = new Promise((resolve) => {\n",
              "    inputElement.addEventListener('change', (e) => {\n",
              "      resolve(e.target.files);\n",
              "    });\n",
              "  });\n",
              "\n",
              "  const cancel = document.createElement('button');\n",
              "  inputElement.parentElement.appendChild(cancel);\n",
              "  cancel.textContent = 'Cancel upload';\n",
              "  const cancelPromise = new Promise((resolve) => {\n",
              "    cancel.onclick = () => {\n",
              "      resolve(null);\n",
              "    };\n",
              "  });\n",
              "\n",
              "  // Wait for the user to pick the files.\n",
              "  const files = yield {\n",
              "    promise: Promise.race([pickedPromise, cancelPromise]),\n",
              "    response: {\n",
              "      action: 'starting',\n",
              "    }\n",
              "  };\n",
              "\n",
              "  cancel.remove();\n",
              "\n",
              "  // Disable the input element since further picks are not allowed.\n",
              "  inputElement.disabled = true;\n",
              "\n",
              "  if (!files) {\n",
              "    return {\n",
              "      response: {\n",
              "        action: 'complete',\n",
              "      }\n",
              "    };\n",
              "  }\n",
              "\n",
              "  for (const file of files) {\n",
              "    const li = document.createElement('li');\n",
              "    li.append(span(file.name, {fontWeight: 'bold'}));\n",
              "    li.append(span(\n",
              "        `(${file.type || 'n/a'}) - ${file.size} bytes, ` +\n",
              "        `last modified: ${\n",
              "            file.lastModifiedDate ? file.lastModifiedDate.toLocaleDateString() :\n",
              "                                    'n/a'} - `));\n",
              "    const percent = span('0% done');\n",
              "    li.appendChild(percent);\n",
              "\n",
              "    outputElement.appendChild(li);\n",
              "\n",
              "    const fileDataPromise = new Promise((resolve) => {\n",
              "      const reader = new FileReader();\n",
              "      reader.onload = (e) => {\n",
              "        resolve(e.target.result);\n",
              "      };\n",
              "      reader.readAsArrayBuffer(file);\n",
              "    });\n",
              "    // Wait for the data to be ready.\n",
              "    let fileData = yield {\n",
              "      promise: fileDataPromise,\n",
              "      response: {\n",
              "        action: 'continue',\n",
              "      }\n",
              "    };\n",
              "\n",
              "    // Use a chunked sending to avoid message size limits. See b/62115660.\n",
              "    let position = 0;\n",
              "    do {\n",
              "      const length = Math.min(fileData.byteLength - position, MAX_PAYLOAD_SIZE);\n",
              "      const chunk = new Uint8Array(fileData, position, length);\n",
              "      position += length;\n",
              "\n",
              "      const base64 = btoa(String.fromCharCode.apply(null, chunk));\n",
              "      yield {\n",
              "        response: {\n",
              "          action: 'append',\n",
              "          file: file.name,\n",
              "          data: base64,\n",
              "        },\n",
              "      };\n",
              "\n",
              "      let percentDone = fileData.byteLength === 0 ?\n",
              "          100 :\n",
              "          Math.round((position / fileData.byteLength) * 100);\n",
              "      percent.textContent = `${percentDone}% done`;\n",
              "\n",
              "    } while (position < fileData.byteLength);\n",
              "  }\n",
              "\n",
              "  // All done.\n",
              "  yield {\n",
              "    response: {\n",
              "      action: 'complete',\n",
              "    }\n",
              "  };\n",
              "}\n",
              "\n",
              "scope.google = scope.google || {};\n",
              "scope.google.colab = scope.google.colab || {};\n",
              "scope.google.colab._files = {\n",
              "  _uploadFiles,\n",
              "  _uploadFilesContinue,\n",
              "};\n",
              "})(self);\n",
              "</script> "
            ]
          },
          "metadata": {}
        },
        {
          "output_type": "stream",
          "name": "stdout",
          "text": [
            "Saving beverage_sales.csv to beverage_sales.csv\n"
          ]
        }
      ]
    },
    {
      "cell_type": "code",
      "source": [
        "from sklearn.svm import SVR\n",
        "data=pd.read_csv('beverage_sales.csv')\n",
        "data.head()\n",
        "data['Sales']=data['Beverage Sales']\n",
        "data.drop('Beverage Sales',axis=1,inplace=True)\n",
        "data.head()\n",
        "x=data.drop('Sales',axis=1)\n",
        "y=data['Sales']\n",
        "\n",
        "x_train,x_test,y_train,y_test=train_test_split(x,y,test_size=0.2,random_state=42)\n",
        "tree_counts = [10, 50, 100, 200]\n",
        "for n in tree_counts:\n",
        "    model = BaggingRegressor(estimator=SVR(),n_estimators=n, random_state=42)\n",
        "    model.fit(x_train, y_train)\n",
        "    y_pred = model.predict(x_test)\n",
        "    accuracy = r2_score(y_test, y_pred)\n",
        "    print(f\"Number of estimators: {n}, Accuracy: {accuracy:.4f}\")\n"
      ],
      "metadata": {
        "colab": {
          "base_uri": "https://localhost:8080/"
        },
        "id": "UUNYQZVrEBmy",
        "outputId": "ff1072b1-4534-4f0c-a238-59608ea39585"
      },
      "execution_count": 68,
      "outputs": [
        {
          "output_type": "stream",
          "name": "stdout",
          "text": [
            "Number of estimators: 10, Accuracy: 0.9205\n",
            "Number of estimators: 50, Accuracy: 0.9208\n",
            "Number of estimators: 100, Accuracy: 0.9212\n",
            "Number of estimators: 200, Accuracy: 0.9210\n"
          ]
        }
      ]
    },
    {
      "cell_type": "code",
      "source": [],
      "metadata": {
        "id": "N8JUoqDtUXEN"
      },
      "execution_count": null,
      "outputs": []
    },
    {
      "cell_type": "markdown",
      "source": [
        "###33.Train a Random Forest Classifier and analyze misclassified samples"
      ],
      "metadata": {
        "id": "e9n05K6CI6lO"
      }
    },
    {
      "cell_type": "code",
      "source": [
        "from sklearn.datasets import load_iris\n",
        "data=load_iris()\n",
        "x=pd.DataFrame(data.data,columns=data.feature_names)\n",
        "y=pd.Series(data.target)\n",
        "x_train,x_test,y_train,y_test=train_test_split(x,y,test_size=0.2,random_state=42)\n",
        "rf=RandomForestClassifier(n_estimators=100,random_state=42)\n",
        "rf.fit(x_train,y_train)\n",
        "y_pred=rf.predict(x_test)\n",
        "misclassified_indices = np.where(y_test != y_pred)\n",
        "misclassified_samples = x_test.iloc[misclassified_indices]\n",
        "misclassified_labels = y_test.iloc[misclassified_indices]\n",
        "print(\"Misclassified Samples:\")\n",
        "print(misclassified_samples)\n",
        "print(\"\\nMisclassified Labels:\")\n",
        "print(misclassified_labels)"
      ],
      "metadata": {
        "colab": {
          "base_uri": "https://localhost:8080/"
        },
        "id": "zW6_WwzpI_Ma",
        "outputId": "98dda7e3-2b33-427c-b7fc-f7169c1544eb"
      },
      "execution_count": 47,
      "outputs": [
        {
          "output_type": "stream",
          "name": "stdout",
          "text": [
            "Misclassified Samples:\n",
            "Empty DataFrame\n",
            "Columns: [sepal length (cm), sepal width (cm), petal length (cm), petal width (cm)]\n",
            "Index: []\n",
            "\n",
            "Misclassified Labels:\n",
            "Series([], dtype: int64)\n"
          ]
        }
      ]
    },
    {
      "cell_type": "markdown",
      "source": [
        "###34.Train a Bagging Classifier and compare its performance with a single Decision Tree Classifier"
      ],
      "metadata": {
        "id": "gZhVG7B9KQBy"
      }
    },
    {
      "cell_type": "code",
      "source": [
        "model=BaggingClassifier(estimator=SVC(),n_estimators=100,random_state=42)\n",
        "model.fit(x_train,y_train)\n",
        "y_pred=model.predict(x_test)\n",
        "print(f\"Accuracy score using BaggingClassfier with SVC base estimator:{accuracy_score(y_test,y_pred)}\")\n",
        "dt=DecisionTreeClassifier(random_state=42)\n",
        "dt.fit(x_train,y_train)\n",
        "y_pred=dt.predict(x_test)\n",
        "print(f\"Accuracy score using single DecisionTreeClassifier:{accuracy_score(y_test,y_pred)}\")"
      ],
      "metadata": {
        "colab": {
          "base_uri": "https://localhost:8080/"
        },
        "id": "3wkPgaXZKSmE",
        "outputId": "2e0947bc-83b8-4c4e-e80b-f4b53a2d41df"
      },
      "execution_count": 48,
      "outputs": [
        {
          "output_type": "stream",
          "name": "stdout",
          "text": [
            "Accuracy score using BaggingClassfier with SVC base estimator:1.0\n",
            "Accuracy score using single DecisionTreeClassifier:1.0\n"
          ]
        }
      ]
    },
    {
      "cell_type": "markdown",
      "source": [
        "###35.Train a Random Forest Classifier and visualize the confusion matrix"
      ],
      "metadata": {
        "id": "VW9Xm537McMK"
      }
    },
    {
      "cell_type": "code",
      "source": [
        "model=RandomForestClassifier(n_estimators=100,random_state=42)\n",
        "model.fit(x_train,y_train)\n",
        "y_pred=model.predict(x_test)\n",
        "cm=confusion_matrix(y_test,y_pred)\n",
        "sns.heatmap(cm,annot=True,fmt='d')\n",
        "plt.show()"
      ],
      "metadata": {
        "colab": {
          "base_uri": "https://localhost:8080/",
          "height": 430
        },
        "id": "wv2dVOQFMZ7o",
        "outputId": "e115fe16-f2d7-4ce8-b935-072798bfb572"
      },
      "execution_count": 49,
      "outputs": [
        {
          "output_type": "display_data",
          "data": {
            "text/plain": [
              "<Figure size 640x480 with 2 Axes>"
            ],
            "image/png": "[encoded data removed]"
          },
          "metadata": {}
        }
      ]
    },
    {
      "cell_type": "markdown",
      "source": [
        "###36.Train a Stacking Classifier using Decision Trees, SVM, and Logistic Regression, and compare accuracy"
      ],
      "metadata": {
        "id": "PxDkL8ODMyCm"
      }
    },
    {
      "cell_type": "code",
      "source": [
        "from sklearn.ensemble import StackingClassifier\n",
        "from sklearn.svm import SVC\n",
        "from sklearn.linear_model import LogisticRegression\n",
        "from sklearn.datasets import load_wine\n",
        "data=load_wine()\n",
        "x=pd.DataFrame(data.data,columns=data.feature_names)\n",
        "y=pd.Series(data.target)\n",
        "x_train,x_test,y_train,y_test=train_test_split(x,y,test_size=0.2,random_state=42)\n",
        "scaler=StandardScaler()\n",
        "x_train=scaler.fit_transform(x_train)\n",
        "x_test=scaler.transform(x_test)\n",
        "\n",
        "dt=DecisionTreeClassifier()\n",
        "svm=SVC()\n",
        "lr=LogisticRegression()\n",
        "estimators=[('dt',dt),('svm',svm),('lr',lr)]\n",
        "\n",
        "stack=StackingClassifier(estimators=estimators,final_estimator=LogisticRegression())\n",
        "stack.fit(x_train,y_train)\n",
        "y_pred=stack.predict(x_test)\n",
        "stack_accuracy=accuracy_score(y_test,y_pred)\n",
        "print(f\"Stack classifier accuracy using DecisionTree, SVM and LogistticRegression is: {stack_accuracy}\")\n",
        "\n",
        "dt.fit(x_train,y_train)\n",
        "y_pred=dt.predict(x_test)\n",
        "dt_accuracy=accuracy_score(y_test,y_pred)\n",
        "\n",
        "svm.fit(x_train,y_train)\n",
        "y_pred=svm.predict(x_test)\n",
        "svm_accuracy=accuracy_score(y_test,y_pred)\n",
        "\n",
        "lr.fit(x_train,y_train)\n",
        "y_pred=lr.predict(x_test)\n",
        "lr_accuracy=accuracy_score(y_test,y_pred)\n",
        "\n",
        "print(f\"DecisionTree accuracy is: {dt_accuracy}\")\n",
        "print(f\"SVM accuracy is: {svm_accuracy}\")\n",
        "print(f\"LogisticRegression accuracy is: {lr_accuracy}\")\n"
      ],
      "metadata": {
        "colab": {
          "base_uri": "https://localhost:8080/"
        },
        "id": "O4ePLHZMMziV",
        "outputId": "5868b707-34b2-4d71-9227-83c2b441fc79"
      },
      "execution_count": 9,
      "outputs": [
        {
          "output_type": "stream",
          "name": "stdout",
          "text": [
            "Stack classifier accuracy using DecisionTree, SVM and LogistticRegression is: 1.0\n",
            "DecisionTree accuracy is: 0.9444444444444444\n",
            "SVM accuracy is: 1.0\n",
            "LogisticRegression accuracy is: 1.0\n"
          ]
        }
      ]
    },
    {
      "cell_type": "markdown",
      "source": [
        "###37.Train a Random Forest Classifier and print the top 5 most important features"
      ],
      "metadata": {
        "id": "FezIfvAXOb1H"
      }
    },
    {
      "cell_type": "code",
      "source": [
        "from sklearn.datasets import make_classification\n",
        "x,y=make_classification(n_samples=1000,n_features=10,n_informative=3,n_redundant=0,random_state=0,shuffle=False)\n",
        "df=pd.DataFrame(x,columns=['feature_'+str(i) for i in range(1,11)])\n",
        "df['target']=y\n",
        "\n",
        "column_names=df.drop('target',axis=1).columns\n",
        "\n",
        "x_train,x_test,y_train,y_test=train_test_split(x,y,test_size=0.2,random_state=42)\n",
        "rf=RandomForestClassifier(n_estimators=100,random_state=42)\n",
        "rf.fit(x_train,y_train)\n",
        "y_pred=rf.predict(x_test)\n",
        "importance_scores=rf.feature_importances_\n",
        "feature_imp_df = pd.DataFrame({'Feature': column_names,'Importance': importance_scores})\n",
        "\n",
        "# Sort the DataFrame by importance scores\n",
        "sorted_importance_df = feature_imp_df.sort_values(by='Importance', ascending=False)\n",
        "top_5_features = sorted_importance_df.head(5)\n",
        "\n",
        "# Print the top 5 features with their importance scores\n",
        "print(\"Top 5 Features:\")\n",
        "for index, row in top_5_features.iterrows():\n",
        "    print(f\"{row['Feature']}: {row['Importance']:.4f}\")\n"
      ],
      "metadata": {
        "colab": {
          "base_uri": "https://localhost:8080/"
        },
        "id": "bCetIGT-OgrO",
        "outputId": "cda97f58-2b25-448c-b3c4-85596c50d4fc"
      },
      "execution_count": 61,
      "outputs": [
        {
          "output_type": "stream",
          "name": "stdout",
          "text": [
            "Top 5 Features:\n",
            "feature_2: 0.2891\n",
            "feature_3: 0.2179\n",
            "feature_1: 0.2132\n",
            "feature_8: 0.0445\n",
            "feature_7: 0.0411\n"
          ]
        }
      ]
    },
    {
      "cell_type": "markdown",
      "source": [
        "###38.Train a Bagging Classifier and evaluate performance using Precision, Recall, and F1-score"
      ],
      "metadata": {
        "id": "a8N-oyA_SZCl"
      }
    },
    {
      "cell_type": "code",
      "source": [
        "\n",
        "from sklearn.datasets import load_wine\n",
        "data=load_wine()\n",
        "x=pd.DataFrame(data.data,columns=data.feature_names)\n",
        "y=pd.Series(data.target)\n",
        "x_train,x_test,y_train,y_test=train_test_split(x,y,test_size=0.2,random_state=42)\n",
        "scaler=StandardScaler()\n",
        "x_train=scaler.fit_transform(x_train)\n",
        "x_test=scaler.transform(x_test)\n",
        "bag=BaggingClassifier(estimator=DecisionTreeClassifier(),n_estimators=100,random_state=42)\n",
        "bag.fit(x_train,y_train)\n",
        "y_pred=bag.predict(x_test)\n",
        "precision=precision_score(y_test,y_pred,average='weighted')\n",
        "recall=recall_score(y_test,y_pred,average='weighted')\n",
        "f1=f1_score(y_test,y_pred,average='weighted')\n",
        "print(f\"Precision score is {precision}\")\n",
        "print(f\"Recall score is {recall}\")\n",
        "print(f\"F1 score is {f1}\")"
      ],
      "metadata": {
        "colab": {
          "base_uri": "https://localhost:8080/"
        },
        "id": "ocQwL0q_Samo",
        "outputId": "69e0c3b2-adde-4bd3-e3ea-19dc1dd3deb8"
      },
      "execution_count": 53,
      "outputs": [
        {
          "output_type": "stream",
          "name": "stdout",
          "text": [
            "Precision score is 0.974074074074074\n",
            "Recall score is 0.9722222222222222\n",
            "F1 score is 0.9717752234993614\n"
          ]
        }
      ]
    },
    {
      "cell_type": "markdown",
      "source": [
        "###39.Train a Random Forest Classifier and analyze the effect of max_depth on accuracy"
      ],
      "metadata": {
        "id": "o92RdE8dThv5"
      }
    },
    {
      "cell_type": "code",
      "source": [
        "max_depth=[1,2,3,4,None]\n",
        "for depth in max_depth:\n",
        "  rf=RandomForestClassifier(n_estimators=100,max_depth=depth,random_state=42)\n",
        "  rf.fit(x_train,y_train)\n",
        "  y_pred=rf.predict(x_test)\n",
        "  accuracy=accuracy_score(y_test,y_pred)\n",
        "  print(f\"Accuracy score using max_depth={depth} is {accuracy}\")\n"
      ],
      "metadata": {
        "colab": {
          "base_uri": "https://localhost:8080/"
        },
        "id": "BQorGlVgTjJB",
        "outputId": "f138cffe-de84-4eda-9939-470a6dd97ac3"
      },
      "execution_count": 54,
      "outputs": [
        {
          "output_type": "stream",
          "name": "stdout",
          "text": [
            "Accuracy score using max_depth=1 is 0.9166666666666666\n",
            "Accuracy score using max_depth=2 is 0.9722222222222222\n",
            "Accuracy score using max_depth=3 is 1.0\n",
            "Accuracy score using max_depth=4 is 1.0\n",
            "Accuracy score using max_depth=None is 1.0\n"
          ]
        }
      ]
    },
    {
      "cell_type": "markdown",
      "source": [
        "###40.Train a Bagging Regressor using different base estimators (DecisionTree and KNeighbors) and compare performance."
      ],
      "metadata": {
        "id": "QZRe5eltUHzk"
      }
    },
    {
      "cell_type": "code",
      "source": [
        "from sklearn.ensemble import BaggingRegressor\n",
        "from sklearn.tree import DecisionTreeRegressor\n",
        "from sklearn.neighbors import KNeighborsRegressor\n",
        "from sklearn.metrics import mean_squared_error\n",
        "data=sns.load_dataset('tips')\n",
        "data.head()\n",
        "X=data.drop('tip',axis=1)\n",
        "y=data['tip']\n",
        "column_names=X.columns\n",
        "x_train,x_test,y_train,y_test=train_test_split(X,y,test_size=0.2,random_state=42)\n",
        "\n",
        "label_encoders = {}\n",
        "for column in ['sex', 'smoker', 'day','time']:\n",
        "    label_encoders[column] = LabelEncoder()\n",
        "    x_train[column] = label_encoders[column].fit_transform(x_train[column])\n",
        "    x_test[column] = label_encoders[column].transform(x_test[column])\n",
        "\n",
        "bag_dt=BaggingRegressor(estimator=DecisionTreeRegressor(),n_estimators=100,random_state=42)\n",
        "bag_dt.fit(x_train,y_train)\n",
        "y_pred=bag_dt.predict(x_test)\n",
        "print(f\"MSE using DecisionTreeRegressor is {mean_squared_error(y_test,y_pred)}\")\n",
        "\n",
        "bag_knn=BaggingRegressor(estimator=KNeighborsRegressor(),n_estimators=100,random_state=42)\n",
        "bag_knn.fit(x_train,y_train)\n",
        "y_pred=bag_knn.predict(x_test)\n",
        "print(f\"MSE using KNeighborsRegressor is {mean_squared_error(y_test,y_pred)}\")\n",
        "\n",
        "#Observation: KNeighbours has low MSE score which means it is performing better when compared to DecisionRegressor here"
      ],
      "metadata": {
        "colab": {
          "base_uri": "https://localhost:8080/"
        },
        "id": "H-yzP0OQUKY9",
        "outputId": "adcb36dc-3bf0-4f94-9fb3-9c81debc6e15"
      },
      "execution_count": 6,
      "outputs": [
        {
          "output_type": "stream",
          "name": "stdout",
          "text": [
            "MSE using DecisionTreeRegressor is 0.9697313581632665\n",
            "MSE using KNeighborsRegressor is 0.8603223520244901\n"
          ]
        }
      ]
    },
    {
      "cell_type": "markdown",
      "source": [
        "###41.Train a Random Forest Classifier and evaluate its performance using ROC-AUC Score"
      ],
      "metadata": {
        "id": "hBwAp0zUaE6c"
      }
    },
    {
      "cell_type": "code",
      "source": [
        "from sklearn.datasets import load_wine\n",
        "data=load_wine()\n",
        "x=pd.DataFrame(data.data,columns=data.feature_names)\n",
        "y=pd.Series(data.target)\n",
        "x_train,x_test,y_train,y_test=train_test_split(x,y,test_size=0.25,random_state=42)\n",
        "rf=RandomForestClassifier(n_estimators=100,random_state=42)\n",
        "rf.fit(x_train,y_train)\n",
        "y_pred=rf.predict(x_test)\n",
        "print(f\"Accuracy score using RandomForestClassifier is {accuracy_score(y_test,y_pred)}\")\n",
        "y_pred_prob=rf.predict_proba(x_test)\n",
        "print(f\"ROC-AUC score using RandomForestClassifier is {roc_auc_score(y_test,y_pred_prob,multi_class='ovr')}\")\n"
      ],
      "metadata": {
        "colab": {
          "base_uri": "https://localhost:8080/"
        },
        "id": "hM4X4x1taGWb",
        "outputId": "0867956d-f10a-48ef-87b4-166ae51a182e"
      },
      "execution_count": 69,
      "outputs": [
        {
          "output_type": "stream",
          "name": "stdout",
          "text": [
            "Accuracy score using RandomForestClassifier is 1.0\n",
            "ROC-AUC score using RandomForestClassifier is 1.0\n"
          ]
        }
      ]
    },
    {
      "cell_type": "markdown",
      "source": [
        "###42.Train a Bagging Classifier and evaluate its performance using cross-validation."
      ],
      "metadata": {
        "id": "WGGJECUNa17q"
      }
    },
    {
      "cell_type": "code",
      "source": [
        "from sklearn.model_selection import cross_val_score\n",
        "\n",
        "bag=BaggingClassifier(estimator=DecisionTreeClassifier(),n_estimators=100,random_state=42)\n",
        "cv_scores=cross_val_score(bag,x,y,cv=5, verbose=2,scoring='accuracy')\n",
        "print(f\"Cross-validation scores: {cv_scores}\")\n",
        "print(f\"Mean cross-validation score: {cv_scores.mean()}\")\n"
      ],
      "metadata": {
        "colab": {
          "base_uri": "https://localhost:8080/"
        },
        "id": "rsv27MSwa3Yv",
        "outputId": "1df23f61-4a21-4b34-b4e5-feb161aa94f9"
      },
      "execution_count": 72,
      "outputs": [
        {
          "output_type": "stream",
          "name": "stdout",
          "text": [
            "[CV] END .................................................... total time=   0.4s\n",
            "[CV] END .................................................... total time=   0.5s\n",
            "[CV] END .................................................... total time=   0.4s\n",
            "[CV] END .................................................... total time=   0.4s\n",
            "[CV] END .................................................... total time=   0.4s\n",
            "Cross-validation scores: [0.94444444 0.88888889 0.97222222 0.97142857 1.        ]\n",
            "Mean cross-validation score: 0.9553968253968254\n"
          ]
        }
      ]
    },
    {
      "cell_type": "markdown",
      "source": [
        "###43.Train a Random Forest Classifier and plot the Precision-Recall curv"
      ],
      "metadata": {
        "id": "w9pZio7Bc2Ld"
      }
    },
    {
      "cell_type": "code",
      "source": [
        "from sklearn.metrics import precision_recall_curve\n",
        "data=sns.load_dataset('tips')\n",
        "data.head()\n",
        "df=pd.DataFrame(data)\n",
        "df['time']=LabelEncoder().fit_transform(df['time'])\n",
        "X=df.drop('time',axis=1)\n",
        "y=df['time']\n",
        "df.head()\n",
        "x_train,x_test,y_train,y_test=train_test_split(X,y,test_size=0.2,random_state=42)\n",
        "for column in ['sex', 'smoker', 'day']:\n",
        "    label_encoders[column] = LabelEncoder()\n",
        "    x_train[column] = label_encoders[column].fit_transform(x_train[column])\n",
        "    x_test[column] = label_encoders[column].transform(x_test[column])\n",
        "scaler=StandardScaler()\n",
        "x_train=scaler.fit_transform(x_train)\n",
        "x_test=scaler.transform(x_test)\n",
        "rf=RandomForestClassifier(n_estimators=100,random_state=42)\n",
        "rf.fit(x_train,y_train)\n",
        "y_pred=rf.predict(x_test)\n",
        "y_pred_proba=rf.predict_proba(x_test)[:,1]\n",
        "precision,recall,threshold=precision_recall_curve(y_test,y_pred_proba)\n",
        "plt.plot(threshold, precision[:-1], label='Precision')\n",
        "plt.plot(threshold, recall[:-1], label='Recall')\n",
        "plt.xlabel('Threshold')\n",
        "plt.ylabel('Score')\n",
        "plt.title('Precision and Recall vs Threshold')\n",
        "plt.legend()\n",
        "plt.show()\n",
        "\n"
      ],
      "metadata": {
        "colab": {
          "base_uri": "https://localhost:8080/",
          "height": 472
        },
        "id": "SSHNW98Wc4Dp",
        "outputId": "6f8e3db9-566c-469f-e44e-2ae090624b1e"
      },
      "execution_count": 81,
      "outputs": [
        {
          "output_type": "display_data",
          "data": {
            "text/plain": [
              "<Figure size 640x480 with 1 Axes>"
            ],
            "image/png": "[encoded data removed]"
          },
          "metadata": {}
        }
      ]
    },
    {
      "cell_type": "markdown",
      "source": [
        "###44.Train a Stacking Classifier with Random Forest and Logistic Regression and compare accuracy"
      ],
      "metadata": {
        "id": "Dfd4EECshcF3"
      }
    },
    {
      "cell_type": "code",
      "source": [
        "from sklearn.ensemble import StackingClassifier\n",
        "from sklearn.linear_model import LogisticRegression\n",
        "from sklearn.ensemble import RandomForestClassifier\n",
        "\n",
        "from sklearn.datasets import load_wine\n",
        "data=load_wine()\n",
        "x=pd.DataFrame(data.data,columns=data.feature_names)\n",
        "y=pd.Series(data.target)\n",
        "x_train,x_test,y_train,y_test=train_test_split(x,y,test_size=0.2,random_state=42)\n",
        "scaler=StandardScaler()\n",
        "x_train=scaler.fit_transform(x_train)\n",
        "x_test=scaler.transform(x_test)\n",
        "rf=RandomForestClassifier(n_estimators=100,random_state=42)\n",
        "lr=LogisticRegression()\n",
        "\n",
        "stack_model=StackingClassifier(estimators=[('rf',rf),('lr',lr)],final_estimator=LogisticRegression())\n",
        "stack_model.fit(x_train,y_train)\n",
        "y_pred=stack_model.predict(x_test)\n",
        "stack_score=accuracy_score(y_test,y_pred)\n",
        "print(f\"Accuracy score using StackingClassifier is {stack_score}\")\n",
        "\n",
        "rf.fit(x_train,y_train)\n",
        "y_pred_rf=rf.predict(x_test)\n",
        "rf_score=accuracy_score(y_test,y_pred_rf)\n",
        "print(f\"Accuracy score using RandomForestClassifier is {rf_score}\")\n",
        "\n",
        "lr.fit(x_train,y_train)\n",
        "y_pred_lr=lr.predict(x_test)\n",
        "lr_score=accuracy_score(y_test,y_pred_lr)\n",
        "print(f\"Accuracy score using LogisticRegression is {lr_score}\")\n"
      ],
      "metadata": {
        "colab": {
          "base_uri": "https://localhost:8080/"
        },
        "id": "-loeBZW0kECb",
        "outputId": "1fa47aa1-9797-4520-bb0f-3f2b415dda01"
      },
      "execution_count": 5,
      "outputs": [
        {
          "output_type": "stream",
          "name": "stdout",
          "text": [
            "Accuracy score using StackingClassifier is 1.0\n",
            "Accuracy score using RandomForestClassifier is 1.0\n",
            "Accuracy score using LogisticRegression is 1.0\n"
          ]
        }
      ]
    },
    {
      "cell_type": "markdown",
      "source": [
        "45.Train a Bagging Regressor with different levels of bootstrap samples and compare performance."
      ],
      "metadata": {
        "id": "6lt1f7AzNAhL"
      }
    },
    {
      "cell_type": "code",
      "source": [
        "from sklearn.ensemble import BaggingRegressor\n",
        "from sklearn.tree import DecisionTreeRegressor\n",
        "from sklearn.metrics import mean_squared_error\n",
        "from sklearn.datasets import make_regression\n",
        "\n",
        "X,y=make_regression(n_samples=1000,n_features=10,n_informative=5,random_state=42,shuffle=False)\n",
        "df=pd.DataFrame(X,columns=['feature_'+str(i) for i in range(1,11)])\n",
        "df['target']=y\n",
        "df.head()\n",
        "x_train,x_test,y_train,y_test=train_test_split(X,y,test_size=0.2,random_state=42)\n",
        "scaler=StandardScaler()\n",
        "x_train=scaler.fit_transform(x_train)\n",
        "x_test=scaler.transform(x_test)\n",
        "for n in [10,20,60,100]:\n",
        "  bag=BaggingRegressor(estimator=DecisionTreeRegressor(),n_estimators=n,random_state=42)\n",
        "  bag.fit(x_train,y_train)\n",
        "  y_pred=bag.predict(x_test)\n",
        "  mse=mean_squared_error(y_test,y_pred)\n",
        "  print(f\"MSE using {n} bootstrap samples is {mse}\")\n",
        "\n",
        "#Observation: with 100 bootstrap samples model is performing better"
      ],
      "metadata": {
        "id": "oQt9YGOAKKkq",
        "colab": {
          "base_uri": "https://localhost:8080/"
        },
        "outputId": "c5b16504-981f-4c0f-9f15-035efb474dcd"
      },
      "execution_count": 10,
      "outputs": [
        {
          "output_type": "stream",
          "name": "stdout",
          "text": [
            "MSE using 10 bootstrap samples is 388.80005609616654\n",
            "MSE using 20 bootstrap samples is 357.14817861729216\n",
            "MSE using 60 bootstrap samples is 339.7676150811109\n",
            "MSE using 100 bootstrap samples is 330.75282541954397\n"
          ]
        }
      ]
    }
  ]
}